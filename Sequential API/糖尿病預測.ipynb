{
 "cells": [
  {
   "cell_type": "code",
   "execution_count": 1,
   "metadata": {},
   "outputs": [],
   "source": [
    "import numpy as np\n",
    "import pandas as pd"
   ]
  },
  {
   "cell_type": "code",
   "execution_count": 2,
   "metadata": {},
   "outputs": [],
   "source": [
    "from keras.models import Sequential  #匯入Sequential模型和Dense層\n",
    "from keras.layers import Dense\n"
   ]
  },
  {
   "cell_type": "code",
   "execution_count": 3,
   "metadata": {},
   "outputs": [],
   "source": [
    "df = pd.read_csv('diabetes.csv')        #df means dataframe\n",
    "dataset = df.values          #以矩陣形式呈現每一列\n",
    "np.random.shuffle(dataset)   #亂數打散資料順序"
   ]
  },
  {
   "cell_type": "code",
   "execution_count": 4,
   "metadata": {},
   "outputs": [],
   "source": [
    "X = dataset[:, 0:8]   #前8個欄位為特徵資料(資料共有9行)\n",
    "Y = dataset[:, 8]     #最後1個欄位為目標標籤資料集"
   ]
  },
  {
   "cell_type": "code",
   "execution_count": 5,
   "metadata": {},
   "outputs": [],
   "source": [
    "model = Sequential()   #建立Sequential物件\n",
    "model.add(Dense(10, input_shape=(8,), activation=\"relu\"))   #unit,input_shape,activation分別代表10個神經元、輸入資料維度15、激活函數用relu"
   ]
  },
  {
   "cell_type": "code",
   "execution_count": 6,
   "metadata": {},
   "outputs": [],
   "source": [
    "model.add(Dense(8, activation=\"relu\"))   #新增第2層隱藏層，8個神經元"
   ]
  },
  {
   "cell_type": "code",
   "execution_count": 7,
   "metadata": {},
   "outputs": [],
   "source": [
    "model.add(Dense(1, activation=\"sigmoid\")) #輸出層，Sigmoid"
   ]
  },
  {
   "cell_type": "code",
   "execution_count": 8,
   "metadata": {},
   "outputs": [
    {
     "name": "stdout",
     "output_type": "stream",
     "text": [
      "Model: \"sequential\"\n",
      "_________________________________________________________________\n",
      "Layer (type)                 Output Shape              Param #   \n",
      "=================================================================\n",
      "dense (Dense)                (None, 10)                90        \n",
      "_________________________________________________________________\n",
      "dense_1 (Dense)              (None, 8)                 88        \n",
      "_________________________________________________________________\n",
      "dense_2 (Dense)              (None, 1)                 9         \n",
      "=================================================================\n",
      "Total params: 187\n",
      "Trainable params: 187\n",
      "Non-trainable params: 0\n",
      "_________________________________________________________________\n"
     ]
    }
   ],
   "source": [
    "model.summary()"
   ]
  },
  {
   "cell_type": "code",
   "execution_count": 9,
   "metadata": {},
   "outputs": [],
   "source": [
    "model.compile(loss=\"binary_crossentropy\", optimizer=\"sgd\",metrics=[\"accuracy\"])   #編譯模型         "
   ]
  },
  {
   "cell_type": "code",
   "execution_count": 10,
   "metadata": {},
   "outputs": [
    {
     "name": "stdout",
     "output_type": "stream",
     "text": [
      "Epoch 1/150\n",
      "200/200 [==============================] - 0s 491us/step - loss: 5.1165 - accuracy: 0.6383\n",
      "Epoch 2/150\n",
      "200/200 [==============================] - 0s 446us/step - loss: 0.6401 - accuracy: 0.6617\n",
      "Epoch 3/150\n",
      "200/200 [==============================] - 0s 451us/step - loss: 0.5952 - accuracy: 0.6825\n",
      "Epoch 4/150\n",
      "200/200 [==============================] - 0s 436us/step - loss: 0.6062 - accuracy: 0.6694\n",
      "Epoch 5/150\n",
      "200/200 [==============================] - 0s 446us/step - loss: 0.6015 - accuracy: 0.6763\n",
      "Epoch 6/150\n",
      "200/200 [==============================] - 0s 431us/step - loss: 0.6006 - accuracy: 0.6802\n",
      "Epoch 7/150\n",
      "200/200 [==============================] - 0s 444us/step - loss: 0.6111 - accuracy: 0.6696\n",
      "Epoch 8/150\n",
      "200/200 [==============================] - 0s 456us/step - loss: 0.5910 - accuracy: 0.6834\n",
      "Epoch 9/150\n",
      "200/200 [==============================] - 0s 431us/step - loss: 0.5939 - accuracy: 0.6793\n",
      "Epoch 10/150\n",
      "200/200 [==============================] - 0s 431us/step - loss: 0.5863 - accuracy: 0.7075\n",
      "Epoch 11/150\n",
      "200/200 [==============================] - 0s 426us/step - loss: 0.5943 - accuracy: 0.6729\n",
      "Epoch 12/150\n",
      "200/200 [==============================] - 0s 436us/step - loss: 0.5935 - accuracy: 0.6954\n",
      "Epoch 13/150\n",
      "200/200 [==============================] - 0s 436us/step - loss: 0.5952 - accuracy: 0.6849\n",
      "Epoch 14/150\n",
      "200/200 [==============================] - 0s 456us/step - loss: 0.5860 - accuracy: 0.6805\n",
      "Epoch 15/150\n",
      "200/200 [==============================] - 0s 456us/step - loss: 0.5984 - accuracy: 0.6814\n",
      "Epoch 16/150\n",
      "200/200 [==============================] - 0s 424us/step - loss: 0.5867 - accuracy: 0.6829\n",
      "Epoch 17/150\n",
      "200/200 [==============================] - 0s 431us/step - loss: 0.5838 - accuracy: 0.6898\n",
      "Epoch 18/150\n",
      "200/200 [==============================] - 0s 456us/step - loss: 0.5781 - accuracy: 0.7025\n",
      "Epoch 19/150\n",
      "200/200 [==============================] - 0s 461us/step - loss: 0.5886 - accuracy: 0.6875\n",
      "Epoch 20/150\n",
      "200/200 [==============================] - 0s 471us/step - loss: 0.5804 - accuracy: 0.6994\n",
      "Epoch 21/150\n",
      "200/200 [==============================] - 0s 451us/step - loss: 0.5808 - accuracy: 0.6951\n",
      "Epoch 22/150\n",
      "200/200 [==============================] - 0s 431us/step - loss: 0.5901 - accuracy: 0.6902\n",
      "Epoch 23/150\n",
      "200/200 [==============================] - 0s 416us/step - loss: 0.5741 - accuracy: 0.7066\n",
      "Epoch 24/150\n",
      "200/200 [==============================] - 0s 436us/step - loss: 0.5828 - accuracy: 0.6949\n",
      "Epoch 25/150\n",
      "200/200 [==============================] - 0s 481us/step - loss: 0.5981 - accuracy: 0.6823\n",
      "Epoch 26/150\n",
      "200/200 [==============================] - 0s 491us/step - loss: 0.5750 - accuracy: 0.7080\n",
      "Epoch 27/150\n",
      "200/200 [==============================] - 0s 441us/step - loss: 0.5650 - accuracy: 0.7041\n",
      "Epoch 28/150\n",
      "200/200 [==============================] - 0s 429us/step - loss: 0.5785 - accuracy: 0.7005\n",
      "Epoch 29/150\n",
      "200/200 [==============================] - 0s 451us/step - loss: 0.5828 - accuracy: 0.7006\n",
      "Epoch 30/150\n",
      "200/200 [==============================] - 0s 436us/step - loss: 0.5851 - accuracy: 0.7002\n",
      "Epoch 31/150\n",
      "200/200 [==============================] - 0s 429us/step - loss: 0.5802 - accuracy: 0.7029\n",
      "Epoch 32/150\n",
      "200/200 [==============================] - 0s 434us/step - loss: 0.5809 - accuracy: 0.7011\n",
      "Epoch 33/150\n",
      "200/200 [==============================] - 0s 441us/step - loss: 0.5652 - accuracy: 0.7146\n",
      "Epoch 34/150\n",
      "200/200 [==============================] - 0s 425us/step - loss: 0.5887 - accuracy: 0.6939\n",
      "Epoch 35/150\n",
      "200/200 [==============================] - 0s 426us/step - loss: 0.5722 - accuracy: 0.7016\n",
      "Epoch 36/150\n",
      "200/200 [==============================] - 0s 426us/step - loss: 0.5897 - accuracy: 0.6817\n",
      "Epoch 37/150\n",
      "200/200 [==============================] - 0s 436us/step - loss: 0.5712 - accuracy: 0.6912\n",
      "Epoch 38/150\n",
      "200/200 [==============================] - 0s 436us/step - loss: 0.5693 - accuracy: 0.7118\n",
      "Epoch 39/150\n",
      "200/200 [==============================] - 0s 426us/step - loss: 0.5764 - accuracy: 0.6995\n",
      "Epoch 40/150\n",
      "200/200 [==============================] - 0s 436us/step - loss: 0.5798 - accuracy: 0.7004\n",
      "Epoch 41/150\n",
      "200/200 [==============================] - 0s 446us/step - loss: 0.5775 - accuracy: 0.7112\n",
      "Epoch 42/150\n",
      "200/200 [==============================] - 0s 436us/step - loss: 0.5746 - accuracy: 0.6927\n",
      "Epoch 43/150\n",
      "200/200 [==============================] - 0s 421us/step - loss: 0.5648 - accuracy: 0.7274\n",
      "Epoch 44/150\n",
      "200/200 [==============================] - 0s 446us/step - loss: 0.5770 - accuracy: 0.7116\n",
      "Epoch 45/150\n",
      "200/200 [==============================] - 0s 555us/step - loss: 0.5847 - accuracy: 0.6977\n",
      "Epoch 46/150\n",
      "200/200 [==============================] - 0s 556us/step - loss: 0.5787 - accuracy: 0.7079\n",
      "Epoch 47/150\n",
      "200/200 [==============================] - 0s 441us/step - loss: 0.5825 - accuracy: 0.6870\n",
      "Epoch 48/150\n",
      "200/200 [==============================] - 0s 435us/step - loss: 0.5769 - accuracy: 0.7044\n",
      "Epoch 49/150\n",
      "200/200 [==============================] - 0s 435us/step - loss: 0.5878 - accuracy: 0.6935\n",
      "Epoch 50/150\n",
      "200/200 [==============================] - 0s 451us/step - loss: 0.5792 - accuracy: 0.6805\n",
      "Epoch 51/150\n",
      "200/200 [==============================] - 0s 477us/step - loss: 0.5714 - accuracy: 0.7015\n",
      "Epoch 52/150\n",
      "200/200 [==============================] - 0s 471us/step - loss: 0.5605 - accuracy: 0.7267\n",
      "Epoch 53/150\n",
      "200/200 [==============================] - 0s 446us/step - loss: 0.5619 - accuracy: 0.7128\n",
      "Epoch 54/150\n",
      "200/200 [==============================] - 0s 446us/step - loss: 0.5827 - accuracy: 0.7024\n",
      "Epoch 55/150\n",
      "200/200 [==============================] - 0s 426us/step - loss: 0.5544 - accuracy: 0.7154\n",
      "Epoch 56/150\n",
      "200/200 [==============================] - 0s 431us/step - loss: 0.5747 - accuracy: 0.7073\n",
      "Epoch 57/150\n",
      "200/200 [==============================] - 0s 426us/step - loss: 0.5761 - accuracy: 0.7121\n",
      "Epoch 58/150\n",
      "200/200 [==============================] - 0s 436us/step - loss: 0.5745 - accuracy: 0.7092\n",
      "Epoch 59/150\n",
      "200/200 [==============================] - 0s 431us/step - loss: 0.5506 - accuracy: 0.7237\n",
      "Epoch 60/150\n",
      "200/200 [==============================] - 0s 436us/step - loss: 0.5636 - accuracy: 0.6984\n",
      "Epoch 61/150\n",
      "200/200 [==============================] - 0s 426us/step - loss: 0.5758 - accuracy: 0.6973\n",
      "Epoch 62/150\n",
      "200/200 [==============================] - 0s 421us/step - loss: 0.5738 - accuracy: 0.7065\n",
      "Epoch 63/150\n",
      "200/200 [==============================] - 0s 441us/step - loss: 0.5713 - accuracy: 0.7065\n",
      "Epoch 64/150\n",
      "200/200 [==============================] - 0s 468us/step - loss: 0.5555 - accuracy: 0.7160\n",
      "Epoch 65/150\n",
      "200/200 [==============================] - 0s 446us/step - loss: 0.5520 - accuracy: 0.7202\n",
      "Epoch 66/150\n",
      "200/200 [==============================] - 0s 426us/step - loss: 0.5573 - accuracy: 0.7087\n",
      "Epoch 67/150\n",
      "200/200 [==============================] - 0s 432us/step - loss: 0.5777 - accuracy: 0.6961\n",
      "Epoch 68/150\n",
      "200/200 [==============================] - 0s 429us/step - loss: 0.5681 - accuracy: 0.7017\n",
      "Epoch 69/150\n",
      "200/200 [==============================] - 0s 439us/step - loss: 0.5730 - accuracy: 0.7146\n",
      "Epoch 70/150\n",
      "200/200 [==============================] - 0s 436us/step - loss: 0.5623 - accuracy: 0.7162\n",
      "Epoch 71/150\n",
      "200/200 [==============================] - 0s 416us/step - loss: 0.5781 - accuracy: 0.7037\n",
      "Epoch 72/150\n",
      "200/200 [==============================] - 0s 416us/step - loss: 0.5546 - accuracy: 0.7250\n",
      "Epoch 73/150\n",
      "200/200 [==============================] - 0s 421us/step - loss: 0.5718 - accuracy: 0.7019\n",
      "Epoch 74/150\n",
      "200/200 [==============================] - 0s 426us/step - loss: 0.5832 - accuracy: 0.6975\n",
      "Epoch 75/150\n",
      "200/200 [==============================] - 0s 421us/step - loss: 0.5845 - accuracy: 0.6855\n",
      "Epoch 76/150\n",
      "200/200 [==============================] - 0s 431us/step - loss: 0.5692 - accuracy: 0.7001\n",
      "Epoch 77/150\n",
      "200/200 [==============================] - 0s 446us/step - loss: 0.5707 - accuracy: 0.7148\n",
      "Epoch 78/150\n",
      "200/200 [==============================] - 0s 431us/step - loss: 0.5600 - accuracy: 0.7179\n",
      "Epoch 79/150\n"
     ]
    },
    {
     "name": "stdout",
     "output_type": "stream",
     "text": [
      "200/200 [==============================] - 0s 436us/step - loss: 0.5741 - accuracy: 0.7036\n",
      "Epoch 80/150\n",
      "200/200 [==============================] - 0s 431us/step - loss: 0.5636 - accuracy: 0.7016\n",
      "Epoch 81/150\n",
      "200/200 [==============================] - 0s 418us/step - loss: 0.5739 - accuracy: 0.7091\n",
      "Epoch 82/150\n",
      "200/200 [==============================] - 0s 421us/step - loss: 0.5682 - accuracy: 0.7012\n",
      "Epoch 83/150\n",
      "200/200 [==============================] - 0s 437us/step - loss: 0.5822 - accuracy: 0.6998\n",
      "Epoch 84/150\n",
      "200/200 [==============================] - 0s 424us/step - loss: 0.5698 - accuracy: 0.6985\n",
      "Epoch 85/150\n",
      "200/200 [==============================] - 0s 421us/step - loss: 0.5718 - accuracy: 0.6947\n",
      "Epoch 86/150\n",
      "200/200 [==============================] - 0s 426us/step - loss: 0.5675 - accuracy: 0.7265\n",
      "Epoch 87/150\n",
      "200/200 [==============================] - 0s 421us/step - loss: 0.5748 - accuracy: 0.7118\n",
      "Epoch 88/150\n",
      "200/200 [==============================] - 0s 421us/step - loss: 0.5605 - accuracy: 0.7207\n",
      "Epoch 89/150\n",
      "200/200 [==============================] - 0s 421us/step - loss: 0.5681 - accuracy: 0.7014\n",
      "Epoch 90/150\n",
      "200/200 [==============================] - 0s 431us/step - loss: 0.5681 - accuracy: 0.7075\n",
      "Epoch 91/150\n",
      "200/200 [==============================] - 0s 426us/step - loss: 0.5622 - accuracy: 0.7059\n",
      "Epoch 92/150\n",
      "200/200 [==============================] - 0s 496us/step - loss: 0.5790 - accuracy: 0.7002\n",
      "Epoch 93/150\n",
      "200/200 [==============================] - 0s 496us/step - loss: 0.5414 - accuracy: 0.7227\n",
      "Epoch 94/150\n",
      "200/200 [==============================] - 0s 451us/step - loss: 0.5861 - accuracy: 0.6892\n",
      "Epoch 95/150\n",
      "200/200 [==============================] - 0s 461us/step - loss: 0.5668 - accuracy: 0.7195\n",
      "Epoch 96/150\n",
      "200/200 [==============================] - 0s 476us/step - loss: 0.5671 - accuracy: 0.6942\n",
      "Epoch 97/150\n",
      "200/200 [==============================] - 0s 471us/step - loss: 0.5741 - accuracy: 0.6949\n",
      "Epoch 98/150\n",
      "200/200 [==============================] - 0s 436us/step - loss: 0.5726 - accuracy: 0.7026\n",
      "Epoch 99/150\n",
      "200/200 [==============================] - 0s 441us/step - loss: 0.5748 - accuracy: 0.7072\n",
      "Epoch 100/150\n",
      "200/200 [==============================] - 0s 440us/step - loss: 0.5964 - accuracy: 0.6757\n",
      "Epoch 101/150\n",
      "200/200 [==============================] - 0s 429us/step - loss: 0.5776 - accuracy: 0.7014\n",
      "Epoch 102/150\n",
      "200/200 [==============================] - 0s 436us/step - loss: 0.5732 - accuracy: 0.6944\n",
      "Epoch 103/150\n",
      "200/200 [==============================] - 0s 436us/step - loss: 0.5713 - accuracy: 0.7045\n",
      "Epoch 104/150\n",
      "200/200 [==============================] - 0s 420us/step - loss: 0.5840 - accuracy: 0.6862\n",
      "Epoch 105/150\n",
      "200/200 [==============================] - 0s 421us/step - loss: 0.5728 - accuracy: 0.7017\n",
      "Epoch 106/150\n",
      "200/200 [==============================] - 0s 431us/step - loss: 0.5639 - accuracy: 0.7136\n",
      "Epoch 107/150\n",
      "200/200 [==============================] - 0s 416us/step - loss: 0.5719 - accuracy: 0.7092\n",
      "Epoch 108/150\n",
      "200/200 [==============================] - 0s 431us/step - loss: 0.5658 - accuracy: 0.7020\n",
      "Epoch 109/150\n",
      "200/200 [==============================] - 0s 441us/step - loss: 0.5785 - accuracy: 0.6965\n",
      "Epoch 110/150\n",
      "200/200 [==============================] - 0s 441us/step - loss: 0.5550 - accuracy: 0.7146\n",
      "Epoch 111/150\n",
      "200/200 [==============================] - 0s 441us/step - loss: 0.5691 - accuracy: 0.7046\n",
      "Epoch 112/150\n",
      "200/200 [==============================] - 0s 436us/step - loss: 0.5448 - accuracy: 0.7359\n",
      "Epoch 113/150\n",
      "200/200 [==============================] - 0s 436us/step - loss: 0.5701 - accuracy: 0.6926\n",
      "Epoch 114/150\n",
      "200/200 [==============================] - 0s 426us/step - loss: 0.5741 - accuracy: 0.7061\n",
      "Epoch 115/150\n",
      "200/200 [==============================] - 0s 421us/step - loss: 0.5781 - accuracy: 0.6780\n",
      "Epoch 116/150\n",
      "200/200 [==============================] - 0s 436us/step - loss: 0.5669 - accuracy: 0.7152\n",
      "Epoch 117/150\n",
      "200/200 [==============================] - 0s 445us/step - loss: 0.5828 - accuracy: 0.7020\n",
      "Epoch 118/150\n",
      "200/200 [==============================] - 0s 431us/step - loss: 0.5694 - accuracy: 0.7109\n",
      "Epoch 119/150\n",
      "200/200 [==============================] - 0s 431us/step - loss: 0.5714 - accuracy: 0.7094\n",
      "Epoch 120/150\n",
      "200/200 [==============================] - 0s 430us/step - loss: 0.5717 - accuracy: 0.7100\n",
      "Epoch 121/150\n",
      "200/200 [==============================] - 0s 424us/step - loss: 0.5750 - accuracy: 0.6953\n",
      "Epoch 122/150\n",
      "200/200 [==============================] - 0s 421us/step - loss: 0.5577 - accuracy: 0.7069\n",
      "Epoch 123/150\n",
      "200/200 [==============================] - 0s 431us/step - loss: 0.5803 - accuracy: 0.6958\n",
      "Epoch 124/150\n",
      "200/200 [==============================] - 0s 426us/step - loss: 0.5702 - accuracy: 0.7045\n",
      "Epoch 125/150\n",
      "200/200 [==============================] - 0s 431us/step - loss: 0.5590 - accuracy: 0.7089\n",
      "Epoch 126/150\n",
      "200/200 [==============================] - 0s 476us/step - loss: 0.5723 - accuracy: 0.6998\n",
      "Epoch 127/150\n",
      "200/200 [==============================] - 0s 429us/step - loss: 0.5691 - accuracy: 0.7146\n",
      "Epoch 128/150\n",
      "200/200 [==============================] - 0s 466us/step - loss: 0.5535 - accuracy: 0.7132\n",
      "Epoch 129/150\n",
      "200/200 [==============================] - 0s 444us/step - loss: 0.5537 - accuracy: 0.7160\n",
      "Epoch 130/150\n",
      "200/200 [==============================] - 0s 416us/step - loss: 0.5623 - accuracy: 0.7134\n",
      "Epoch 131/150\n",
      "200/200 [==============================] - 0s 446us/step - loss: 0.5669 - accuracy: 0.7029\n",
      "Epoch 132/150\n",
      "200/200 [==============================] - 0s 431us/step - loss: 0.5698 - accuracy: 0.7072\n",
      "Epoch 133/150\n",
      "200/200 [==============================] - 0s 431us/step - loss: 0.5713 - accuracy: 0.7013\n",
      "Epoch 134/150\n",
      "200/200 [==============================] - 0s 429us/step - loss: 0.5780 - accuracy: 0.7002\n",
      "Epoch 135/150\n",
      "200/200 [==============================] - 0s 426us/step - loss: 0.5605 - accuracy: 0.7128\n",
      "Epoch 136/150\n",
      "200/200 [==============================] - 0s 424us/step - loss: 0.5676 - accuracy: 0.7164\n",
      "Epoch 137/150\n",
      "200/200 [==============================] - 0s 429us/step - loss: 0.5806 - accuracy: 0.6881\n",
      "Epoch 138/150\n",
      "200/200 [==============================] - 0s 426us/step - loss: 0.5582 - accuracy: 0.7160\n",
      "Epoch 139/150\n",
      "200/200 [==============================] - 0s 441us/step - loss: 0.5757 - accuracy: 0.6940\n",
      "Epoch 140/150\n",
      "200/200 [==============================] - 0s 436us/step - loss: 0.5578 - accuracy: 0.7008\n",
      "Epoch 141/150\n",
      "200/200 [==============================] - 0s 434us/step - loss: 0.5665 - accuracy: 0.7127\n",
      "Epoch 142/150\n",
      "200/200 [==============================] - 0s 426us/step - loss: 0.5712 - accuracy: 0.7060\n",
      "Epoch 143/150\n",
      "200/200 [==============================] - 0s 431us/step - loss: 0.5942 - accuracy: 0.6882\n",
      "Epoch 144/150\n",
      "200/200 [==============================] - 0s 436us/step - loss: 0.5614 - accuracy: 0.7175\n",
      "Epoch 145/150\n",
      "200/200 [==============================] - 0s 446us/step - loss: 0.5611 - accuracy: 0.7082\n",
      "Epoch 146/150\n",
      "200/200 [==============================] - 0s 426us/step - loss: 0.5735 - accuracy: 0.6989\n",
      "Epoch 147/150\n",
      "200/200 [==============================] - 0s 416us/step - loss: 0.5717 - accuracy: 0.7091\n",
      "Epoch 148/150\n",
      "200/200 [==============================] - 0s 426us/step - loss: 0.5625 - accuracy: 0.7084\n",
      "Epoch 149/150\n",
      "200/200 [==============================] - 0s 431us/step - loss: 0.5655 - accuracy: 0.7125\n",
      "Epoch 150/150\n",
      "200/200 [==============================] - 0s 431us/step - loss: 0.5682 - accuracy: 0.7100\n"
     ]
    },
    {
     "data": {
      "text/plain": [
       "<tensorflow.python.keras.callbacks.History at 0x181cdd4b1f0>"
      ]
     },
     "execution_count": 10,
     "metadata": {},
     "output_type": "execute_result"
    }
   ],
   "source": [
    "model.fit(X, Y, epochs=150, batch_size=10)     #訓練模型（單次epoch=(全部訓練樣本/batchsize)/iteration=1）"
   ]
  },
  {
   "cell_type": "code",
   "execution_count": 11,
   "metadata": {},
   "outputs": [
    {
     "name": "stdout",
     "output_type": "stream",
     "text": [
      "63/63 [==============================] - 0s 579us/step - loss: 0.5708 - accuracy: 0.7030\n",
      "loss = 0.57\n",
      "準確度 = 0.70\n"
     ]
    }
   ],
   "source": [
    "loss, accuracy = model.evaluate(X, Y)         \n",
    "print(\"loss = {:.2f}\".format(loss))\n",
    "print(\"準確度 = {:.2f}\".format(accuracy))"
   ]
  },
  {
   "cell_type": "code",
   "execution_count": 12,
   "metadata": {},
   "outputs": [],
   "source": [
    "X -= X.mean(axis=0)     #先減掉平均值，再除以標準差，可以將數值移位成平均值0，標準差1的資料分布\n",
    "X /= X.std(axis=0)      "
   ]
  },
  {
   "cell_type": "code",
   "execution_count": 13,
   "metadata": {},
   "outputs": [
    {
     "data": {
      "text/plain": [
       "<tensorflow.python.keras.callbacks.History at 0x181cdce1c10>"
      ]
     },
     "execution_count": 13,
     "metadata": {},
     "output_type": "execute_result"
    }
   ],
   "source": [
    "model.fit(X, Y, epochs=150, batch_size=10, verbose=0)      #verbose=0不顯示訓練狀況；=1會顯示所有損失和準確度；=2會顯示每一次訓練週期的資料"
   ]
  },
  {
   "cell_type": "code",
   "execution_count": 14,
   "metadata": {},
   "outputs": [
    {
     "name": "stdout",
     "output_type": "stream",
     "text": [
      "63/63 [==============================] - 0s 540us/step - loss: 0.3597 - accuracy: 0.8350\n",
      "loss = 0.36\n",
      "準確度 = 0.83\n"
     ]
    }
   ],
   "source": [
    "loss, accuracy = model.evaluate(X, Y)         \n",
    "print(\"loss = {:.2f}\".format(loss))\n",
    "print(\"準確度 = {:.2f}\".format(accuracy))      #準確度提升到0.79！"
   ]
  },
  {
   "cell_type": "code",
   "execution_count": 15,
   "metadata": {},
   "outputs": [],
   "source": [
    "from keras.utils import to_categorical  #進行 One-hot Encoding\n",
    "Y = to_categorical(Y)"
   ]
  },
  {
   "cell_type": "code",
   "execution_count": 16,
   "metadata": {},
   "outputs": [],
   "source": [
    "model = Sequential()\n",
    "model.add(Dense(10, input_shape=(8, ), activation=\"relu\"))\n",
    "model.add(Dense(8, activation=\"relu\"))\n",
    "model.add(Dense(2, activation=\"softmax\"))          #改用softmax"
   ]
  },
  {
   "cell_type": "code",
   "execution_count": 17,
   "metadata": {},
   "outputs": [
    {
     "name": "stdout",
     "output_type": "stream",
     "text": [
      "63/63 [==============================] - 0s 563us/step - loss: 0.3880 - accuracy: 0.8210\n",
      "loss = 0.39\n",
      "準確度 = 0.82\n"
     ]
    }
   ],
   "source": [
    "model.compile(loss=\"binary_crossentropy\", optimizer=\"sgd\",\n",
    "              metrics=[\"accuracy\"])\n",
    "\n",
    "model.fit(X, Y, epochs=150, batch_size=10, verbose=0)      #verbose=0不顯示訓練狀況；=1會顯示所有損失和準確度；=2會顯示每一次訓練週期的資料\n",
    "\n",
    "loss, accuracy = model.evaluate(X, Y)         \n",
    "print(\"loss = {:.2f}\".format(loss))\n",
    "print(\"準確度 = {:.2f}\".format(accuracy))      #準確度提升0.01至0.80！"
   ]
  },
  {
   "cell_type": "code",
   "execution_count": 18,
   "metadata": {},
   "outputs": [],
   "source": [
    "#使用初始器\n",
    "\n",
    "model = Sequential()\n",
    "\n",
    "\n",
    "#kernal_initializer初始神經層的權重矩陣、bias_initializer初始偏向量的值(zeros代表0,ones代表1)\n",
    "\n",
    "model.add(Dense(10, input_shape=(8, ),kernel_initializer=\"random_uniform\",bias_initializer=\"ones\",activation=\"relu\"))\n",
    "model.add(Dense(8, input_shape=(8, ),kernel_initializer=\"random_uniform\",bias_initializer=\"ones\",activation=\"relu\"))\n",
    "model.add(Dense(2, input_shape=(8, ),kernel_initializer=\"random_uniform\",bias_initializer=\"ones\",activation=\"softmax\"))"
   ]
  },
  {
   "cell_type": "code",
   "execution_count": 19,
   "metadata": {},
   "outputs": [
    {
     "name": "stdout",
     "output_type": "stream",
     "text": [
      "63/63 [==============================] - 0s 627us/step - loss: 0.4395 - accuracy: 0.7840\n",
      "loss = 0.44\n",
      "準確度 = 0.78\n"
     ]
    }
   ],
   "source": [
    "model.compile(loss=\"binary_crossentropy\", optimizer=\"sgd\",\n",
    "              metrics=[\"accuracy\"])\n",
    "\n",
    "model.fit(X, Y, epochs=150, batch_size=10, verbose=0)      #verbose=0不顯示訓練狀況；=1會顯示所有損失和準確度；=2會顯示每一次訓練週期的資料\n",
    "\n",
    "loss, accuracy = model.evaluate(X, Y)         \n",
    "print(\"loss = {:.2f}\".format(loss))\n",
    "print(\"準確度 = {:.2f}\".format(accuracy))      #準確度0.78！"
   ]
  },
  {
   "cell_type": "code",
   "execution_count": 20,
   "metadata": {},
   "outputs": [
    {
     "name": "stdout",
     "output_type": "stream",
     "text": [
      "63/63 [==============================] - 0s 515us/step - loss: 0.3804 - accuracy: 0.8325\n",
      "loss = 0.38\n",
      "準確度 = 0.83\n"
     ]
    }
   ],
   "source": [
    "model.compile(loss=\"binary_crossentropy\", optimizer=\"adam\",  #優化器改成adam\n",
    "              metrics=[\"accuracy\"])\n",
    "\n",
    "model.fit(X, Y, epochs=150, batch_size=10, verbose=0)      #verbose=0不顯示訓練狀況；=1會顯示所有損失和準確度；=2會顯示每一次訓練週期的資料\n",
    "\n",
    "loss, accuracy = model.evaluate(X, Y)         \n",
    "print(\"loss = {:.2f}\".format(loss))\n",
    "print(\"準確度 = {:.2f}\".format(accuracy))      #準確度0.80！"
   ]
  },
  {
   "cell_type": "code",
   "execution_count": 21,
   "metadata": {},
   "outputs": [
    {
     "name": "stdout",
     "output_type": "stream",
     "text": [
      "Model: \"sequential_2\"\n",
      "_________________________________________________________________\n",
      "Layer (type)                 Output Shape              Param #   \n",
      "=================================================================\n",
      "dense_6 (Dense)              (None, 10)                90        \n",
      "_________________________________________________________________\n",
      "dense_7 (Dense)              (None, 8)                 88        \n",
      "_________________________________________________________________\n",
      "dense_8 (Dense)              (None, 2)                 18        \n",
      "_________________________________________________________________\n",
      "dense_9 (Dense)              (None, 10)                30        \n",
      "_________________________________________________________________\n",
      "dense_10 (Dense)             (None, 6)                 66        \n",
      "_________________________________________________________________\n",
      "dense_11 (Dense)             (None, 2)                 14        \n",
      "=================================================================\n",
      "Total params: 306\n",
      "Trainable params: 306\n",
      "Non-trainable params: 0\n",
      "_________________________________________________________________\n"
     ]
    }
   ],
   "source": [
    "model.add(Dense(10, input_shape=(8, ),activation=\"relu\"))\n",
    "model.add(Dense(6,activation=\"relu\"))\n",
    "model.add(Dense(2,activation=\"softmax\"))\n",
    "model.summary()"
   ]
  },
  {
   "cell_type": "code",
   "execution_count": 22,
   "metadata": {},
   "outputs": [
    {
     "name": "stdout",
     "output_type": "stream",
     "text": [
      "63/63 [==============================] - 0s 579us/step - loss: 0.3642 - accuracy: 0.8420\n",
      "loss = 0.36\n",
      "準確度 = 0.84\n"
     ]
    }
   ],
   "source": [
    "model.compile(loss=\"binary_crossentropy\", optimizer=\"adam\",  #優化器改成adam\n",
    "              metrics=[\"accuracy\"])\n",
    "\n",
    "model.fit(X, Y, epochs=150, batch_size=10, verbose=0)      #verbose=0不顯示訓練狀況；=1會顯示所有損失和準確度；=2會顯示每一次訓練週期的資料\n",
    "\n",
    "loss, accuracy = model.evaluate(X, Y)         \n",
    "print(\"loss = {:.2f}\".format(loss))\n",
    "print(\"準確度 = {:.2f}\".format(accuracy))      #準確度0.81！"
   ]
  },
  {
   "cell_type": "code",
   "execution_count": 23,
   "metadata": {},
   "outputs": [],
   "source": [
    "X_train, Y_train = X[:690], Y[:690] #前690筆訓練資料\n",
    "X_test, Y_test = X[690:], Y[690:] #後78筆訓練資料       #使用df.shape可看到資料總筆數"
   ]
  },
  {
   "cell_type": "code",
   "execution_count": 24,
   "metadata": {},
   "outputs": [
    {
     "data": {
      "text/plain": [
       "<tensorflow.python.keras.callbacks.History at 0x181cf455820>"
      ]
     },
     "execution_count": 24,
     "metadata": {},
     "output_type": "execute_result"
    }
   ],
   "source": [
    "model.fit(X_train, Y_train, epochs=150, batch_size=10, verbose=0)"
   ]
  },
  {
   "cell_type": "code",
   "execution_count": 25,
   "metadata": {},
   "outputs": [
    {
     "name": "stdout",
     "output_type": "stream",
     "text": [
      "22/22 [==============================] - 0s 616us/step - loss: 0.3406 - accuracy: 0.8667\n",
      "訓練資料集資訊：\n",
      "loss = 0.34\n",
      "準確度 = 0.87\n",
      "-------------------------------------------\n",
      "41/41 [==============================] - 0s 598us/step - loss: 0.3939 - accuracy: 0.8397\n",
      "測試資料集資訊：\n",
      "loss = 0.39\n",
      "準確度 = 0.84\n"
     ]
    }
   ],
   "source": [
    "loss, accuracy = model.evaluate(X_train, Y_train)         \n",
    "print(\"訓練資料集資訊：\")\n",
    "print(\"loss = {:.2f}\".format(loss))\n",
    "print(\"準確度 = {:.2f}\".format(accuracy))      #準確度0.83！\n",
    "print(\"-------------------------------------------\")\n",
    "loss, accuracy = model.evaluate(X_test, Y_test)\n",
    "print(\"測試資料集資訊：\")\n",
    "print(\"loss = {:.2f}\".format(loss))\n",
    "print(\"準確度 = {:.2f}\".format(accuracy))      #準確度0.81！"
   ]
  },
  {
   "cell_type": "code",
   "execution_count": 26,
   "metadata": {},
   "outputs": [
    {
     "name": "stdout",
     "output_type": "stream",
     "text": [
      "Epoch 1/150\n",
      "69/69 [==============================] - 1s 12ms/step - loss: 0.3477 - accuracy: 0.8551 - val_loss: 0.3856 - val_accuracy: 0.8351\n",
      "Epoch 2/150\n",
      "69/69 [==============================] - 0s 2ms/step - loss: 0.3449 - accuracy: 0.8667 - val_loss: 0.3867 - val_accuracy: 0.8359\n",
      "Epoch 3/150\n",
      "69/69 [==============================] - 0s 2ms/step - loss: 0.3454 - accuracy: 0.8681 - val_loss: 0.3870 - val_accuracy: 0.8351\n",
      "Epoch 4/150\n",
      "69/69 [==============================] - 0s 2ms/step - loss: 0.3451 - accuracy: 0.8623 - val_loss: 0.3922 - val_accuracy: 0.8328\n",
      "Epoch 5/150\n",
      "69/69 [==============================] - 0s 2ms/step - loss: 0.3397 - accuracy: 0.8551 - val_loss: 0.3995 - val_accuracy: 0.8351\n",
      "Epoch 6/150\n",
      "69/69 [==============================] - 0s 2ms/step - loss: 0.3468 - accuracy: 0.8594 - val_loss: 0.3906 - val_accuracy: 0.8458\n",
      "Epoch 7/150\n",
      "69/69 [==============================] - 0s 2ms/step - loss: 0.3459 - accuracy: 0.8580 - val_loss: 0.3823 - val_accuracy: 0.8504\n",
      "Epoch 8/150\n",
      "69/69 [==============================] - 0s 2ms/step - loss: 0.3471 - accuracy: 0.8652 - val_loss: 0.3819 - val_accuracy: 0.8397\n",
      "Epoch 9/150\n",
      "69/69 [==============================] - 0s 2ms/step - loss: 0.3439 - accuracy: 0.8565 - val_loss: 0.3839 - val_accuracy: 0.8313\n",
      "Epoch 10/150\n",
      "69/69 [==============================] - 0s 2ms/step - loss: 0.3430 - accuracy: 0.8522 - val_loss: 0.3860 - val_accuracy: 0.8458\n",
      "Epoch 11/150\n",
      "69/69 [==============================] - 0s 2ms/step - loss: 0.3436 - accuracy: 0.8638 - val_loss: 0.3864 - val_accuracy: 0.8382\n",
      "Epoch 12/150\n",
      "69/69 [==============================] - 0s 2ms/step - loss: 0.3477 - accuracy: 0.8580 - val_loss: 0.3866 - val_accuracy: 0.8366\n",
      "Epoch 13/150\n",
      "69/69 [==============================] - 0s 2ms/step - loss: 0.3466 - accuracy: 0.8565 - val_loss: 0.3871 - val_accuracy: 0.8366\n",
      "Epoch 14/150\n",
      "69/69 [==============================] - 0s 2ms/step - loss: 0.3508 - accuracy: 0.8507 - val_loss: 0.4021 - val_accuracy: 0.8344\n",
      "Epoch 15/150\n",
      "69/69 [==============================] - 0s 2ms/step - loss: 0.3497 - accuracy: 0.8594 - val_loss: 0.3848 - val_accuracy: 0.8374\n",
      "Epoch 16/150\n",
      "69/69 [==============================] - 0s 2ms/step - loss: 0.3442 - accuracy: 0.8609 - val_loss: 0.3894 - val_accuracy: 0.8321\n",
      "Epoch 17/150\n",
      "69/69 [==============================] - 0s 2ms/step - loss: 0.3431 - accuracy: 0.8565 - val_loss: 0.3895 - val_accuracy: 0.8374\n",
      "Epoch 18/150\n",
      "69/69 [==============================] - 0s 2ms/step - loss: 0.3467 - accuracy: 0.8565 - val_loss: 0.3855 - val_accuracy: 0.8397\n",
      "Epoch 19/150\n",
      "69/69 [==============================] - 0s 2ms/step - loss: 0.3442 - accuracy: 0.8638 - val_loss: 0.3915 - val_accuracy: 0.8313\n",
      "Epoch 20/150\n",
      "69/69 [==============================] - 0s 2ms/step - loss: 0.3414 - accuracy: 0.8609 - val_loss: 0.3962 - val_accuracy: 0.8267\n",
      "Epoch 21/150\n",
      "69/69 [==============================] - 0s 2ms/step - loss: 0.3424 - accuracy: 0.8696 - val_loss: 0.3899 - val_accuracy: 0.8389\n",
      "Epoch 22/150\n",
      "69/69 [==============================] - 0s 2ms/step - loss: 0.3413 - accuracy: 0.8551 - val_loss: 0.4022 - val_accuracy: 0.8321\n",
      "Epoch 23/150\n",
      "69/69 [==============================] - 0s 2ms/step - loss: 0.3390 - accuracy: 0.8667 - val_loss: 0.3961 - val_accuracy: 0.8366\n",
      "Epoch 24/150\n",
      "69/69 [==============================] - 0s 2ms/step - loss: 0.3394 - accuracy: 0.8638 - val_loss: 0.3980 - val_accuracy: 0.8260\n",
      "Epoch 25/150\n",
      "69/69 [==============================] - 0s 2ms/step - loss: 0.3458 - accuracy: 0.8580 - val_loss: 0.3885 - val_accuracy: 0.8389\n",
      "Epoch 26/150\n",
      "69/69 [==============================] - 0s 2ms/step - loss: 0.3443 - accuracy: 0.8652 - val_loss: 0.3851 - val_accuracy: 0.8344\n",
      "Epoch 27/150\n",
      "69/69 [==============================] - 0s 2ms/step - loss: 0.3391 - accuracy: 0.8638 - val_loss: 0.3914 - val_accuracy: 0.8359\n",
      "Epoch 28/150\n",
      "69/69 [==============================] - 0s 2ms/step - loss: 0.3430 - accuracy: 0.8609 - val_loss: 0.3903 - val_accuracy: 0.8359\n",
      "Epoch 29/150\n",
      "69/69 [==============================] - 0s 2ms/step - loss: 0.3423 - accuracy: 0.8609 - val_loss: 0.3822 - val_accuracy: 0.8328\n",
      "Epoch 30/150\n",
      "69/69 [==============================] - 0s 2ms/step - loss: 0.3401 - accuracy: 0.8652 - val_loss: 0.3945 - val_accuracy: 0.8260\n",
      "Epoch 31/150\n",
      "69/69 [==============================] - 0s 2ms/step - loss: 0.3439 - accuracy: 0.8652 - val_loss: 0.3937 - val_accuracy: 0.8321\n",
      "Epoch 32/150\n",
      "69/69 [==============================] - 0s 2ms/step - loss: 0.3414 - accuracy: 0.8681 - val_loss: 0.3867 - val_accuracy: 0.8336\n",
      "Epoch 33/150\n",
      "69/69 [==============================] - 0s 2ms/step - loss: 0.3447 - accuracy: 0.8667 - val_loss: 0.3873 - val_accuracy: 0.8366\n",
      "Epoch 34/150\n",
      "69/69 [==============================] - 0s 2ms/step - loss: 0.3392 - accuracy: 0.8681 - val_loss: 0.3960 - val_accuracy: 0.8282\n",
      "Epoch 35/150\n",
      "69/69 [==============================] - 0s 2ms/step - loss: 0.3440 - accuracy: 0.8580 - val_loss: 0.3948 - val_accuracy: 0.8397\n",
      "Epoch 36/150\n",
      "69/69 [==============================] - 0s 2ms/step - loss: 0.3488 - accuracy: 0.8667 - val_loss: 0.3869 - val_accuracy: 0.8389\n",
      "Epoch 37/150\n",
      "69/69 [==============================] - 0s 2ms/step - loss: 0.3416 - accuracy: 0.8565 - val_loss: 0.3875 - val_accuracy: 0.8405\n",
      "Epoch 38/150\n",
      "69/69 [==============================] - 0s 2ms/step - loss: 0.3472 - accuracy: 0.8638 - val_loss: 0.3899 - val_accuracy: 0.8374\n",
      "Epoch 39/150\n",
      "69/69 [==============================] - 0s 2ms/step - loss: 0.3393 - accuracy: 0.8638 - val_loss: 0.3879 - val_accuracy: 0.8366\n",
      "Epoch 40/150\n",
      "69/69 [==============================] - 0s 2ms/step - loss: 0.3408 - accuracy: 0.8609 - val_loss: 0.3882 - val_accuracy: 0.8290\n",
      "Epoch 41/150\n",
      "69/69 [==============================] - 0s 2ms/step - loss: 0.3388 - accuracy: 0.8710 - val_loss: 0.3902 - val_accuracy: 0.8344\n",
      "Epoch 42/150\n",
      "69/69 [==============================] - 0s 2ms/step - loss: 0.3407 - accuracy: 0.8638 - val_loss: 0.3844 - val_accuracy: 0.8344\n",
      "Epoch 43/150\n",
      "69/69 [==============================] - 0s 2ms/step - loss: 0.3431 - accuracy: 0.8638 - val_loss: 0.3976 - val_accuracy: 0.8298\n",
      "Epoch 44/150\n",
      "69/69 [==============================] - 0s 2ms/step - loss: 0.3378 - accuracy: 0.8667 - val_loss: 0.3872 - val_accuracy: 0.8405\n",
      "Epoch 45/150\n",
      "69/69 [==============================] - 0s 2ms/step - loss: 0.3400 - accuracy: 0.8609 - val_loss: 0.3875 - val_accuracy: 0.8359\n",
      "Epoch 46/150\n",
      "69/69 [==============================] - 0s 2ms/step - loss: 0.3373 - accuracy: 0.8652 - val_loss: 0.3861 - val_accuracy: 0.8344\n",
      "Epoch 47/150\n",
      "69/69 [==============================] - 0s 2ms/step - loss: 0.3376 - accuracy: 0.8681 - val_loss: 0.4052 - val_accuracy: 0.8328\n",
      "Epoch 48/150\n",
      "69/69 [==============================] - 0s 2ms/step - loss: 0.3470 - accuracy: 0.8638 - val_loss: 0.3887 - val_accuracy: 0.8374\n",
      "Epoch 49/150\n",
      "69/69 [==============================] - 0s 2ms/step - loss: 0.3408 - accuracy: 0.8580 - val_loss: 0.4098 - val_accuracy: 0.8267\n",
      "Epoch 50/150\n",
      "69/69 [==============================] - 0s 2ms/step - loss: 0.3376 - accuracy: 0.8710 - val_loss: 0.3881 - val_accuracy: 0.8305\n",
      "Epoch 51/150\n",
      "69/69 [==============================] - 0s 2ms/step - loss: 0.3361 - accuracy: 0.8638 - val_loss: 0.3886 - val_accuracy: 0.8298\n",
      "Epoch 52/150\n",
      "69/69 [==============================] - 0s 2ms/step - loss: 0.3378 - accuracy: 0.8652 - val_loss: 0.3871 - val_accuracy: 0.8443\n",
      "Epoch 53/150\n",
      "69/69 [==============================] - 0s 2ms/step - loss: 0.3406 - accuracy: 0.8609 - val_loss: 0.3881 - val_accuracy: 0.8313\n",
      "Epoch 54/150\n",
      "69/69 [==============================] - 0s 3ms/step - loss: 0.3360 - accuracy: 0.8652 - val_loss: 0.3940 - val_accuracy: 0.8351\n",
      "Epoch 55/150\n",
      "69/69 [==============================] - 0s 2ms/step - loss: 0.3404 - accuracy: 0.8623 - val_loss: 0.3902 - val_accuracy: 0.8351\n",
      "Epoch 56/150\n",
      "69/69 [==============================] - 0s 2ms/step - loss: 0.3359 - accuracy: 0.8739 - val_loss: 0.4093 - val_accuracy: 0.8275\n",
      "Epoch 57/150\n",
      "69/69 [==============================] - 0s 2ms/step - loss: 0.3312 - accuracy: 0.8725 - val_loss: 0.4108 - val_accuracy: 0.8351\n",
      "Epoch 58/150\n",
      "69/69 [==============================] - 0s 2ms/step - loss: 0.3388 - accuracy: 0.8725 - val_loss: 0.3971 - val_accuracy: 0.8298\n"
     ]
    },
    {
     "name": "stdout",
     "output_type": "stream",
     "text": [
      "Epoch 59/150\n",
      "69/69 [==============================] - 0s 2ms/step - loss: 0.3404 - accuracy: 0.8652 - val_loss: 0.3910 - val_accuracy: 0.8282\n",
      "Epoch 60/150\n",
      "69/69 [==============================] - 0s 2ms/step - loss: 0.3364 - accuracy: 0.8696 - val_loss: 0.3924 - val_accuracy: 0.8382\n",
      "Epoch 61/150\n",
      "69/69 [==============================] - 0s 2ms/step - loss: 0.3414 - accuracy: 0.8594 - val_loss: 0.3900 - val_accuracy: 0.8374\n",
      "Epoch 62/150\n",
      "69/69 [==============================] - 0s 2ms/step - loss: 0.3442 - accuracy: 0.8623 - val_loss: 0.3917 - val_accuracy: 0.8359\n",
      "Epoch 63/150\n",
      "69/69 [==============================] - 0s 2ms/step - loss: 0.3453 - accuracy: 0.8551 - val_loss: 0.3867 - val_accuracy: 0.8321\n",
      "Epoch 64/150\n",
      "69/69 [==============================] - 0s 2ms/step - loss: 0.3390 - accuracy: 0.8739 - val_loss: 0.3887 - val_accuracy: 0.8382\n",
      "Epoch 65/150\n",
      "69/69 [==============================] - 0s 2ms/step - loss: 0.3360 - accuracy: 0.8768 - val_loss: 0.3903 - val_accuracy: 0.8313\n",
      "Epoch 66/150\n",
      "69/69 [==============================] - 0s 2ms/step - loss: 0.3370 - accuracy: 0.8710 - val_loss: 0.3862 - val_accuracy: 0.8321\n",
      "Epoch 67/150\n",
      "69/69 [==============================] - 0s 2ms/step - loss: 0.3384 - accuracy: 0.8681 - val_loss: 0.3865 - val_accuracy: 0.8435\n",
      "Epoch 68/150\n",
      "69/69 [==============================] - 0s 2ms/step - loss: 0.3347 - accuracy: 0.8623 - val_loss: 0.3954 - val_accuracy: 0.8298\n",
      "Epoch 69/150\n",
      "69/69 [==============================] - 0s 2ms/step - loss: 0.3349 - accuracy: 0.8681 - val_loss: 0.3915 - val_accuracy: 0.8382\n",
      "Epoch 70/150\n",
      "69/69 [==============================] - 0s 2ms/step - loss: 0.3457 - accuracy: 0.8493 - val_loss: 0.3977 - val_accuracy: 0.8237\n",
      "Epoch 71/150\n",
      "69/69 [==============================] - 0s 2ms/step - loss: 0.3392 - accuracy: 0.8580 - val_loss: 0.3888 - val_accuracy: 0.8344\n",
      "Epoch 72/150\n",
      "69/69 [==============================] - 0s 2ms/step - loss: 0.3406 - accuracy: 0.8551 - val_loss: 0.3911 - val_accuracy: 0.8282\n",
      "Epoch 73/150\n",
      "69/69 [==============================] - 0s 2ms/step - loss: 0.3363 - accuracy: 0.8638 - val_loss: 0.3859 - val_accuracy: 0.8412\n",
      "Epoch 74/150\n",
      "69/69 [==============================] - 0s 2ms/step - loss: 0.3367 - accuracy: 0.8710 - val_loss: 0.4060 - val_accuracy: 0.8336\n",
      "Epoch 75/150\n",
      "69/69 [==============================] - 0s 2ms/step - loss: 0.3350 - accuracy: 0.8609 - val_loss: 0.3874 - val_accuracy: 0.8328\n",
      "Epoch 76/150\n",
      "69/69 [==============================] - 0s 2ms/step - loss: 0.3343 - accuracy: 0.8696 - val_loss: 0.3904 - val_accuracy: 0.8351\n",
      "Epoch 77/150\n",
      "69/69 [==============================] - 0s 2ms/step - loss: 0.3404 - accuracy: 0.8638 - val_loss: 0.3881 - val_accuracy: 0.8366\n",
      "Epoch 78/150\n",
      "69/69 [==============================] - 0s 2ms/step - loss: 0.3378 - accuracy: 0.8725 - val_loss: 0.3879 - val_accuracy: 0.8351\n",
      "Epoch 79/150\n",
      "69/69 [==============================] - 0s 2ms/step - loss: 0.3372 - accuracy: 0.8565 - val_loss: 0.4177 - val_accuracy: 0.8275\n",
      "Epoch 80/150\n",
      "69/69 [==============================] - 0s 2ms/step - loss: 0.3418 - accuracy: 0.8638 - val_loss: 0.3881 - val_accuracy: 0.8321\n",
      "Epoch 81/150\n",
      "69/69 [==============================] - 0s 2ms/step - loss: 0.3377 - accuracy: 0.8594 - val_loss: 0.3903 - val_accuracy: 0.8374\n",
      "Epoch 82/150\n",
      "69/69 [==============================] - 0s 2ms/step - loss: 0.3318 - accuracy: 0.8725 - val_loss: 0.4044 - val_accuracy: 0.8244\n",
      "Epoch 83/150\n",
      "69/69 [==============================] - 0s 2ms/step - loss: 0.3423 - accuracy: 0.8580 - val_loss: 0.3880 - val_accuracy: 0.8427\n",
      "Epoch 84/150\n",
      "69/69 [==============================] - 0s 2ms/step - loss: 0.3344 - accuracy: 0.8681 - val_loss: 0.3919 - val_accuracy: 0.8328\n",
      "Epoch 85/150\n",
      "69/69 [==============================] - 0s 2ms/step - loss: 0.3420 - accuracy: 0.8638 - val_loss: 0.3935 - val_accuracy: 0.8344\n",
      "Epoch 86/150\n",
      "69/69 [==============================] - 0s 2ms/step - loss: 0.3352 - accuracy: 0.8623 - val_loss: 0.3944 - val_accuracy: 0.8313\n",
      "Epoch 87/150\n",
      "69/69 [==============================] - 0s 2ms/step - loss: 0.3399 - accuracy: 0.8696 - val_loss: 0.3880 - val_accuracy: 0.8382\n",
      "Epoch 88/150\n",
      "69/69 [==============================] - 0s 2ms/step - loss: 0.3374 - accuracy: 0.8681 - val_loss: 0.3901 - val_accuracy: 0.8321\n",
      "Epoch 89/150\n",
      "69/69 [==============================] - 0s 2ms/step - loss: 0.3337 - accuracy: 0.8681 - val_loss: 0.3896 - val_accuracy: 0.8389\n",
      "Epoch 90/150\n",
      "69/69 [==============================] - 0s 2ms/step - loss: 0.3379 - accuracy: 0.8681 - val_loss: 0.3841 - val_accuracy: 0.8344\n",
      "Epoch 91/150\n",
      "69/69 [==============================] - 0s 2ms/step - loss: 0.3405 - accuracy: 0.8638 - val_loss: 0.3935 - val_accuracy: 0.8450\n",
      "Epoch 92/150\n",
      "69/69 [==============================] - 0s 2ms/step - loss: 0.3388 - accuracy: 0.8638 - val_loss: 0.3857 - val_accuracy: 0.8344\n",
      "Epoch 93/150\n",
      "69/69 [==============================] - 0s 2ms/step - loss: 0.3373 - accuracy: 0.8609 - val_loss: 0.4140 - val_accuracy: 0.8168\n",
      "Epoch 94/150\n",
      "69/69 [==============================] - 0s 2ms/step - loss: 0.3377 - accuracy: 0.8667 - val_loss: 0.3966 - val_accuracy: 0.8336\n",
      "Epoch 95/150\n",
      "69/69 [==============================] - 0s 2ms/step - loss: 0.3351 - accuracy: 0.8652 - val_loss: 0.3929 - val_accuracy: 0.8282\n",
      "Epoch 96/150\n",
      "69/69 [==============================] - 0s 2ms/step - loss: 0.3422 - accuracy: 0.8638 - val_loss: 0.4011 - val_accuracy: 0.8336\n",
      "Epoch 97/150\n",
      "69/69 [==============================] - 0s 2ms/step - loss: 0.3386 - accuracy: 0.8638 - val_loss: 0.3839 - val_accuracy: 0.8397\n",
      "Epoch 98/150\n",
      "69/69 [==============================] - 0s 2ms/step - loss: 0.3367 - accuracy: 0.8623 - val_loss: 0.3865 - val_accuracy: 0.8321\n",
      "Epoch 99/150\n",
      "69/69 [==============================] - 0s 2ms/step - loss: 0.3349 - accuracy: 0.8725 - val_loss: 0.3867 - val_accuracy: 0.8290\n",
      "Epoch 100/150\n",
      "69/69 [==============================] - 0s 2ms/step - loss: 0.3436 - accuracy: 0.8652 - val_loss: 0.3858 - val_accuracy: 0.8397\n",
      "Epoch 101/150\n",
      "69/69 [==============================] - 0s 2ms/step - loss: 0.3355 - accuracy: 0.8681 - val_loss: 0.3918 - val_accuracy: 0.8328\n",
      "Epoch 102/150\n",
      "69/69 [==============================] - 0s 2ms/step - loss: 0.3330 - accuracy: 0.8652 - val_loss: 0.4027 - val_accuracy: 0.8359\n",
      "Epoch 103/150\n",
      "69/69 [==============================] - 0s 2ms/step - loss: 0.3352 - accuracy: 0.8609 - val_loss: 0.3910 - val_accuracy: 0.8374\n",
      "Epoch 104/150\n",
      "69/69 [==============================] - 0s 2ms/step - loss: 0.3348 - accuracy: 0.8667 - val_loss: 0.3902 - val_accuracy: 0.8344\n",
      "Epoch 105/150\n",
      "69/69 [==============================] - 0s 2ms/step - loss: 0.3436 - accuracy: 0.8623 - val_loss: 0.3890 - val_accuracy: 0.8374\n",
      "Epoch 106/150\n",
      "69/69 [==============================] - 0s 2ms/step - loss: 0.3342 - accuracy: 0.8696 - val_loss: 0.3906 - val_accuracy: 0.8374\n",
      "Epoch 107/150\n",
      "69/69 [==============================] - 0s 2ms/step - loss: 0.3376 - accuracy: 0.8754 - val_loss: 0.3941 - val_accuracy: 0.8267\n",
      "Epoch 108/150\n",
      "69/69 [==============================] - 0s 2ms/step - loss: 0.3319 - accuracy: 0.8667 - val_loss: 0.3912 - val_accuracy: 0.8344\n",
      "Epoch 109/150\n",
      "69/69 [==============================] - 0s 2ms/step - loss: 0.3379 - accuracy: 0.8667 - val_loss: 0.3866 - val_accuracy: 0.8336\n",
      "Epoch 110/150\n",
      "69/69 [==============================] - 0s 2ms/step - loss: 0.3390 - accuracy: 0.8638 - val_loss: 0.3852 - val_accuracy: 0.8359\n",
      "Epoch 111/150\n",
      "69/69 [==============================] - 0s 2ms/step - loss: 0.3395 - accuracy: 0.8667 - val_loss: 0.3907 - val_accuracy: 0.8351\n",
      "Epoch 112/150\n",
      "69/69 [==============================] - 0s 2ms/step - loss: 0.3349 - accuracy: 0.8638 - val_loss: 0.3860 - val_accuracy: 0.8412\n",
      "Epoch 113/150\n",
      "69/69 [==============================] - 0s 2ms/step - loss: 0.3329 - accuracy: 0.8681 - val_loss: 0.4092 - val_accuracy: 0.8374\n",
      "Epoch 114/150\n",
      "69/69 [==============================] - 0s 2ms/step - loss: 0.3324 - accuracy: 0.8797 - val_loss: 0.3942 - val_accuracy: 0.8313\n",
      "Epoch 115/150\n",
      "69/69 [==============================] - 0s 2ms/step - loss: 0.3331 - accuracy: 0.8652 - val_loss: 0.3989 - val_accuracy: 0.8397\n",
      "Epoch 116/150\n"
     ]
    },
    {
     "name": "stdout",
     "output_type": "stream",
     "text": [
      "69/69 [==============================] - 0s 2ms/step - loss: 0.3368 - accuracy: 0.8638 - val_loss: 0.3901 - val_accuracy: 0.8344\n",
      "Epoch 117/150\n",
      "69/69 [==============================] - 0s 2ms/step - loss: 0.3302 - accuracy: 0.8739 - val_loss: 0.3864 - val_accuracy: 0.8336\n",
      "Epoch 118/150\n",
      "69/69 [==============================] - 0s 2ms/step - loss: 0.3333 - accuracy: 0.8609 - val_loss: 0.3840 - val_accuracy: 0.8389\n",
      "Epoch 119/150\n",
      "69/69 [==============================] - 0s 2ms/step - loss: 0.3356 - accuracy: 0.8681 - val_loss: 0.3907 - val_accuracy: 0.8397\n",
      "Epoch 120/150\n",
      "69/69 [==============================] - 0s 2ms/step - loss: 0.3364 - accuracy: 0.8667 - val_loss: 0.3864 - val_accuracy: 0.8328\n",
      "Epoch 121/150\n",
      "69/69 [==============================] - 0s 2ms/step - loss: 0.3354 - accuracy: 0.8681 - val_loss: 0.3918 - val_accuracy: 0.8389\n",
      "Epoch 122/150\n",
      "69/69 [==============================] - 0s 2ms/step - loss: 0.3322 - accuracy: 0.8652 - val_loss: 0.3917 - val_accuracy: 0.8382\n",
      "Epoch 123/150\n",
      "69/69 [==============================] - 0s 2ms/step - loss: 0.3353 - accuracy: 0.8652 - val_loss: 0.3968 - val_accuracy: 0.8321\n",
      "Epoch 124/150\n",
      "69/69 [==============================] - 0s 2ms/step - loss: 0.3418 - accuracy: 0.8681 - val_loss: 0.4029 - val_accuracy: 0.8298\n",
      "Epoch 125/150\n",
      "69/69 [==============================] - 0s 2ms/step - loss: 0.3348 - accuracy: 0.8681 - val_loss: 0.3872 - val_accuracy: 0.8351\n",
      "Epoch 126/150\n",
      "69/69 [==============================] - 0s 2ms/step - loss: 0.3311 - accuracy: 0.8638 - val_loss: 0.3896 - val_accuracy: 0.8344\n",
      "Epoch 127/150\n",
      "69/69 [==============================] - 0s 2ms/step - loss: 0.3306 - accuracy: 0.8754 - val_loss: 0.3835 - val_accuracy: 0.8359\n",
      "Epoch 128/150\n",
      "69/69 [==============================] - 0s 2ms/step - loss: 0.3305 - accuracy: 0.8652 - val_loss: 0.3892 - val_accuracy: 0.8359\n",
      "Epoch 129/150\n",
      "69/69 [==============================] - 0s 2ms/step - loss: 0.3352 - accuracy: 0.8696 - val_loss: 0.3860 - val_accuracy: 0.8351\n",
      "Epoch 130/150\n",
      "69/69 [==============================] - 0s 2ms/step - loss: 0.3327 - accuracy: 0.8681 - val_loss: 0.3910 - val_accuracy: 0.8321\n",
      "Epoch 131/150\n",
      "69/69 [==============================] - 0s 2ms/step - loss: 0.3342 - accuracy: 0.8681 - val_loss: 0.3905 - val_accuracy: 0.8359\n",
      "Epoch 132/150\n",
      "69/69 [==============================] - 0s 2ms/step - loss: 0.3292 - accuracy: 0.8667 - val_loss: 0.4050 - val_accuracy: 0.8305\n",
      "Epoch 133/150\n",
      "69/69 [==============================] - 0s 2ms/step - loss: 0.3353 - accuracy: 0.8681 - val_loss: 0.3902 - val_accuracy: 0.8366\n",
      "Epoch 134/150\n",
      "69/69 [==============================] - 0s 2ms/step - loss: 0.3343 - accuracy: 0.8652 - val_loss: 0.3915 - val_accuracy: 0.8328\n",
      "Epoch 135/150\n",
      "69/69 [==============================] - 0s 2ms/step - loss: 0.3382 - accuracy: 0.8696 - val_loss: 0.3937 - val_accuracy: 0.8336\n",
      "Epoch 136/150\n",
      "69/69 [==============================] - 0s 2ms/step - loss: 0.3310 - accuracy: 0.8754 - val_loss: 0.3863 - val_accuracy: 0.8359\n",
      "Epoch 137/150\n",
      "69/69 [==============================] - 0s 2ms/step - loss: 0.3349 - accuracy: 0.8623 - val_loss: 0.3898 - val_accuracy: 0.8397\n",
      "Epoch 138/150\n",
      "69/69 [==============================] - 0s 2ms/step - loss: 0.3351 - accuracy: 0.8681 - val_loss: 0.3879 - val_accuracy: 0.8282\n",
      "Epoch 139/150\n",
      "69/69 [==============================] - 0s 2ms/step - loss: 0.3345 - accuracy: 0.8609 - val_loss: 0.3873 - val_accuracy: 0.8382\n",
      "Epoch 140/150\n",
      "69/69 [==============================] - 0s 2ms/step - loss: 0.3356 - accuracy: 0.8652 - val_loss: 0.3848 - val_accuracy: 0.8420\n",
      "Epoch 141/150\n",
      "69/69 [==============================] - 0s 3ms/step - loss: 0.3249 - accuracy: 0.8739 - val_loss: 0.3958 - val_accuracy: 0.8313\n",
      "Epoch 142/150\n",
      "69/69 [==============================] - 0s 2ms/step - loss: 0.3295 - accuracy: 0.8739 - val_loss: 0.3864 - val_accuracy: 0.8290\n",
      "Epoch 143/150\n",
      "69/69 [==============================] - 0s 2ms/step - loss: 0.3299 - accuracy: 0.8681 - val_loss: 0.3893 - val_accuracy: 0.8344\n",
      "Epoch 144/150\n",
      "69/69 [==============================] - 0s 2ms/step - loss: 0.3320 - accuracy: 0.8754 - val_loss: 0.3837 - val_accuracy: 0.8305\n",
      "Epoch 145/150\n",
      "69/69 [==============================] - 0s 2ms/step - loss: 0.3314 - accuracy: 0.8725 - val_loss: 0.3876 - val_accuracy: 0.8389\n",
      "Epoch 146/150\n",
      "69/69 [==============================] - 0s 2ms/step - loss: 0.3297 - accuracy: 0.8696 - val_loss: 0.4070 - val_accuracy: 0.8282\n",
      "Epoch 147/150\n",
      "69/69 [==============================] - 0s 2ms/step - loss: 0.3281 - accuracy: 0.8768 - val_loss: 0.3861 - val_accuracy: 0.8382\n",
      "Epoch 148/150\n",
      "69/69 [==============================] - 0s 2ms/step - loss: 0.3269 - accuracy: 0.8725 - val_loss: 0.3891 - val_accuracy: 0.8382\n",
      "Epoch 149/150\n",
      "69/69 [==============================] - 0s 2ms/step - loss: 0.3405 - accuracy: 0.8768 - val_loss: 0.3975 - val_accuracy: 0.8244\n",
      "Epoch 150/150\n",
      "69/69 [==============================] - 0s 2ms/step - loss: 0.3333 - accuracy: 0.8594 - val_loss: 0.3872 - val_accuracy: 0.8519\n"
     ]
    }
   ],
   "source": [
    "#驗證資料集\n",
    "\n",
    "history = model.fit(X_train, Y_train,\n",
    "                    validation_data = (X_test, Y_test),\n",
    "                    epochs=150, batch_size=10)"
   ]
  },
  {
   "cell_type": "code",
   "execution_count": 27,
   "metadata": {},
   "outputs": [
    {
     "name": "stdout",
     "output_type": "stream",
     "text": [
      "22/22 [==============================] - 0s 570us/step - loss: 0.3303 - accuracy: 0.8812\n",
      "訓練資料集資訊：\n",
      "loss = 0.33\n",
      "準確度 = 0.88\n",
      "-------------------------------------------\n",
      "41/41 [==============================] - 0s 598us/step - loss: 0.3872 - accuracy: 0.8519\n",
      "測試資料集資訊：\n",
      "loss = 0.39\n",
      "準確度 = 0.85\n"
     ]
    }
   ],
   "source": [
    "loss, accuracy = model.evaluate(X_train, Y_train)         \n",
    "print(\"訓練資料集資訊：\")\n",
    "print(\"loss = {:.2f}\".format(loss))\n",
    "print(\"準確度 = {:.2f}\".format(accuracy))      #準確度0.84！\n",
    "print(\"-------------------------------------------\")\n",
    "loss, accuracy = model.evaluate(X_test, Y_test)\n",
    "print(\"測試資料集資訊：\")\n",
    "print(\"loss = {:.2f}\".format(loss))\n",
    "print(\"準確度 = {:.2f}\".format(accuracy))      #準確度0.79！"
   ]
  },
  {
   "cell_type": "code",
   "execution_count": 28,
   "metadata": {},
   "outputs": [
    {
     "data": {
      "image/png": "[encoded data removed]",
      "text/plain": [
       "<Figure size 432x288 with 1 Axes>"
      ]
     },
     "metadata": {
      "needs_background": "light"
     },
     "output_type": "display_data"
    }
   ],
   "source": [
    "import matplotlib.pyplot as plt\n",
    "loss = history.history[\"loss\"]\n",
    "epochs = range(1, len(loss)+1)\n",
    "val_loss = history.history[\"val_loss\"]\n",
    "plt.plot(epochs, loss, \"bo\", label =\"Training Loss\")\n",
    "plt.plot(epochs, val_loss, \"r\", label =\"Validation Loss\")\n",
    "plt.title(\"Training and Validation Loss\")\n",
    "plt.xlabel(\"Epochs\")\n",
    "plt.ylabel(\"Loss\")\n",
    "plt.legend()\n",
    "plt.show()"
   ]
  },
  {
   "cell_type": "code",
   "execution_count": 29,
   "metadata": {},
   "outputs": [
    {
     "ename": "KeyError",
     "evalue": "'acc'",
     "output_type": "error",
     "traceback": [
      "\u001b[1;31m---------------------------------------------------------------------------\u001b[0m",
      "\u001b[1;31mKeyError\u001b[0m                                  Traceback (most recent call last)",
      "\u001b[1;32m<ipython-input-29-89a20196b5f4>\u001b[0m in \u001b[0;36m<module>\u001b[1;34m\u001b[0m\n\u001b[1;32m----> 1\u001b[1;33m \u001b[0macc\u001b[0m \u001b[1;33m=\u001b[0m \u001b[0mhistory\u001b[0m\u001b[1;33m.\u001b[0m\u001b[0mhistory\u001b[0m\u001b[1;33m[\u001b[0m\u001b[1;34m\"acc\"\u001b[0m\u001b[1;33m]\u001b[0m\u001b[1;33m\u001b[0m\u001b[1;33m\u001b[0m\u001b[0m\n\u001b[0m\u001b[0;32m      2\u001b[0m \u001b[0mepochs\u001b[0m \u001b[1;33m=\u001b[0m \u001b[0mrange\u001b[0m\u001b[1;33m(\u001b[0m\u001b[1;36m1\u001b[0m\u001b[1;33m,\u001b[0m \u001b[0mlen\u001b[0m\u001b[1;33m(\u001b[0m\u001b[0macc\u001b[0m\u001b[1;33m)\u001b[0m\u001b[1;33m+\u001b[0m\u001b[1;36m1\u001b[0m\u001b[1;33m)\u001b[0m\u001b[1;33m\u001b[0m\u001b[1;33m\u001b[0m\u001b[0m\n\u001b[0;32m      3\u001b[0m \u001b[0mval_acc\u001b[0m \u001b[1;33m=\u001b[0m \u001b[0mhistory\u001b[0m\u001b[1;33m.\u001b[0m\u001b[0mhistory\u001b[0m\u001b[1;33m[\u001b[0m\u001b[1;34m\"val_acc\"\u001b[0m\u001b[1;33m]\u001b[0m\u001b[1;33m\u001b[0m\u001b[1;33m\u001b[0m\u001b[0m\n\u001b[0;32m      4\u001b[0m \u001b[0mplt\u001b[0m\u001b[1;33m.\u001b[0m\u001b[0mplot\u001b[0m\u001b[1;33m(\u001b[0m\u001b[0mepochs\u001b[0m\u001b[1;33m,\u001b[0m \u001b[0macc\u001b[0m\u001b[1;33m,\u001b[0m \u001b[1;34m\"b-\"\u001b[0m\u001b[1;33m,\u001b[0m \u001b[0mlabel\u001b[0m \u001b[1;33m=\u001b[0m\u001b[1;34m\"Training Acc\"\u001b[0m\u001b[1;33m)\u001b[0m\u001b[1;33m\u001b[0m\u001b[1;33m\u001b[0m\u001b[0m\n\u001b[0;32m      5\u001b[0m \u001b[0mplt\u001b[0m\u001b[1;33m.\u001b[0m\u001b[0mplot\u001b[0m\u001b[1;33m(\u001b[0m\u001b[0mepochs\u001b[0m\u001b[1;33m,\u001b[0m \u001b[0mval_acc\u001b[0m\u001b[1;33m,\u001b[0m \u001b[1;34m\"r--\"\u001b[0m\u001b[1;33m,\u001b[0m \u001b[0mlabel\u001b[0m \u001b[1;33m=\u001b[0m\u001b[1;34m\"Validation Acc\"\u001b[0m\u001b[1;33m)\u001b[0m\u001b[1;33m\u001b[0m\u001b[1;33m\u001b[0m\u001b[0m\n",
      "\u001b[1;31mKeyError\u001b[0m: 'acc'"
     ]
    }
   ],
   "source": [
    "acc = history.history[\"acc\"]\n",
    "epochs = range(1, len(acc)+1)\n",
    "val_acc = history.history[\"val_acc\"]\n",
    "plt.plot(epochs, acc, \"b-\", label =\"Training Acc\")\n",
    "plt.plot(epochs, val_acc, \"r--\", label =\"Validation Acc\")\n",
    "plt.title(\"Training and Validation Accuracy\")\n",
    "plt.xlabel(\"Epochs\")\n",
    "plt.ylabel(\"Accuracy\")\n",
    "plt.legend()\n",
    "plt.show()"
   ]
  },
  {
   "cell_type": "code",
   "execution_count": 29,
   "metadata": {},
   "outputs": [
    {
     "name": "stdout",
     "output_type": "stream",
     "text": [
      "Epoch 1/14\n",
      "56/56 [==============================] - 0s 3ms/step - loss: 0.3368 - accuracy: 0.8768 - val_loss: 0.3153 - val_accuracy: 0.8768\n",
      "Epoch 2/14\n",
      "56/56 [==============================] - 0s 1ms/step - loss: 0.3343 - accuracy: 0.8786 - val_loss: 0.3534 - val_accuracy: 0.8261\n",
      "Epoch 3/14\n",
      "56/56 [==============================] - 0s 1ms/step - loss: 0.3364 - accuracy: 0.8678 - val_loss: 0.3273 - val_accuracy: 0.8478\n",
      "Epoch 4/14\n",
      "56/56 [==============================] - 0s 1ms/step - loss: 0.3304 - accuracy: 0.8768 - val_loss: 0.3292 - val_accuracy: 0.8696\n",
      "Epoch 5/14\n",
      "56/56 [==============================] - 0s 1ms/step - loss: 0.3268 - accuracy: 0.8732 - val_loss: 0.3271 - val_accuracy: 0.8768\n",
      "Epoch 6/14\n",
      "56/56 [==============================] - 0s 1ms/step - loss: 0.3290 - accuracy: 0.8641 - val_loss: 0.3274 - val_accuracy: 0.8551\n",
      "Epoch 7/14\n",
      "56/56 [==============================] - 0s 1ms/step - loss: 0.3274 - accuracy: 0.8696 - val_loss: 0.3350 - val_accuracy: 0.8261\n",
      "Epoch 8/14\n",
      "56/56 [==============================] - 0s 1ms/step - loss: 0.3337 - accuracy: 0.8696 - val_loss: 0.3369 - val_accuracy: 0.8406\n",
      "Epoch 9/14\n",
      "56/56 [==============================] - 0s 1ms/step - loss: 0.3360 - accuracy: 0.8678 - val_loss: 0.3356 - val_accuracy: 0.8623\n",
      "Epoch 10/14\n",
      "56/56 [==============================] - 0s 1ms/step - loss: 0.3453 - accuracy: 0.8569 - val_loss: 0.3321 - val_accuracy: 0.8551\n",
      "Epoch 11/14\n",
      "56/56 [==============================] - 0s 1ms/step - loss: 0.3276 - accuracy: 0.8732 - val_loss: 0.3453 - val_accuracy: 0.8623\n",
      "Epoch 12/14\n",
      "56/56 [==============================] - 0s 1ms/step - loss: 0.3329 - accuracy: 0.8714 - val_loss: 0.3382 - val_accuracy: 0.8696\n",
      "Epoch 13/14\n",
      "56/56 [==============================] - 0s 1ms/step - loss: 0.3281 - accuracy: 0.8768 - val_loss: 0.3430 - val_accuracy: 0.8768\n",
      "Epoch 14/14\n",
      "56/56 [==============================] - 0s 1ms/step - loss: 0.3336 - accuracy: 0.8659 - val_loss: 0.3475 - val_accuracy: 0.8551\n"
     ]
    }
   ],
   "source": [
    "history = model.fit(X_train, Y_train, validation_split=0.2,   #自動切割成80:20\n",
    "                    epochs=14, batch_size=10)"
   ]
  },
  {
   "cell_type": "code",
   "execution_count": 30,
   "metadata": {},
   "outputs": [
    {
     "name": "stdout",
     "output_type": "stream",
     "text": [
      "22/22 [==============================] - 0s 570us/step - loss: 0.3244 - accuracy: 0.8725\n",
      "訓練資料集資訊：\n",
      "loss = 0.32\n",
      "準確度 = 0.87\n",
      "-------------------------------------------\n",
      "41/41 [==============================] - 0s 499us/step - loss: 0.3804 - accuracy: 0.8366\n",
      "測試資料集資訊：\n",
      "loss = 0.38\n",
      "準確度 = 0.84\n"
     ]
    }
   ],
   "source": [
    "loss, accuracy = model.evaluate(X_train, Y_train)         \n",
    "print(\"訓練資料集資訊：\")\n",
    "print(\"loss = {:.2f}\".format(loss))\n",
    "print(\"準確度 = {:.2f}\".format(accuracy))      #準確度0.82！\n",
    "print(\"-------------------------------------------\")\n",
    "loss, accuracy = model.evaluate(X_test, Y_test)\n",
    "print(\"測試資料集資訊：\")\n",
    "print(\"loss = {:.2f}\".format(loss))\n",
    "print(\"準確度 = {:.2f}\".format(accuracy))      #準確度0.81！\n",
    "\n",
    "#Training loss和Validation loss相當接近，準確度只差0.01"
   ]
  },
  {
   "cell_type": "code",
   "execution_count": 31,
   "metadata": {},
   "outputs": [
    {
     "name": "stdout",
     "output_type": "stream",
     "text": [
      "22/22 [==============================] - 0s 665us/step - loss: 0.4578 - accuracy: 0.7783\n",
      "訓練資料集的準確度 = 0.78\n",
      "41/41 [==============================] - 0s 474us/step - loss: 0.4883 - accuracy: 0.7580\n",
      "測試資料集的準確度 = 0.76\n",
      "[0] [1]\n"
     ]
    },
    {
     "name": "stderr",
     "output_type": "stream",
     "text": [
      "C:\\Users\\Hsieh73\\anaconda3\\lib\\site-packages\\tensorflow\\python\\keras\\engine\\sequential.py:450: UserWarning: `model.predict_classes()` is deprecated and will be removed after 2021-01-01. Please use instead:* `np.argmax(model.predict(x), axis=-1)`,   if your model does multi-class classification   (e.g. if it uses a `softmax` last-layer activation).* `(model.predict(x) > 0.5).astype(\"int32\")`,   if your model does binary classification   (e.g. if it uses a `sigmoid` last-layer activation).\n",
      "  warnings.warn('`model.predict_classes()` is deprecated and '\n"
     ]
    }
   ],
   "source": [
    "import numpy as np\n",
    "import pandas as pd\n",
    "from keras.models import Sequential\n",
    "from keras.layers import Dense\n",
    "\n",
    "np.random.seed(10)  # 指定亂數種子\n",
    "# 載入糖尿病資料集\n",
    "df = pd.read_csv(\"./diabetes.csv\")\n",
    "dataset = df.values\n",
    "np.random.shuffle(dataset)  # 使用亂數打亂資料\n",
    "# 分割成特徵資料和標籤資料\n",
    "X = dataset[:, 0:8]\n",
    "Y = dataset[:, 8]\n",
    "# 特徵標準化\n",
    "X -= X.mean(axis=0)\n",
    "X /= X.std(axis=0)\n",
    "# 分割訓練和測試資料集\n",
    "X_train, Y_train = X[:690], Y[:690]     # 訓練資料前690筆\n",
    "X_test, Y_test = X[690:], Y[690:]       # 測試資料後78筆\n",
    "# 定義模型\n",
    "model = Sequential()\n",
    "model.add(Dense(8, input_shape=(8,), activation=\"relu\"))\n",
    "model.add(Dense(8, activation=\"relu\"))\n",
    "model.add(Dense(1, activation=\"sigmoid\"))\n",
    "# 編譯模型\n",
    "model.compile(loss=\"binary_crossentropy\", optimizer=\"adam\", \n",
    "              metrics=[\"accuracy\"])\n",
    "# 訓練模型\n",
    "model.fit(X_train, Y_train, epochs=10, batch_size=10, verbose=0)\n",
    "# 評估模型\n",
    "loss, accuracy = model.evaluate(X_train, Y_train)\n",
    "print(\"訓練資料集的準確度 = {:.2f}\".format(accuracy))\n",
    "loss, accuracy = model.evaluate(X_test, Y_test)\n",
    "print(\"測試資料集的準確度 = {:.2f}\".format(accuracy))\n",
    "# 測試資料集的預測值\n",
    "Y_pred = model.predict_classes(X_test, batch_size=10, verbose=0)\n",
    "print(Y_pred[0], Y_pred[1])  #第0筆不會得糖尿病、第1筆會得糖尿病"
   ]
  },
  {
   "cell_type": "code",
   "execution_count": null,
   "metadata": {},
   "outputs": [],
   "source": []
  }
 ],
 "metadata": {
  "kernelspec": {
   "display_name": "Python 3",
   "language": "python",
   "name": "python3"
  },
  "language_info": {
   "codemirror_mode": {
    "name": "ipython",
    "version": 3
   },
   "file_extension": ".py",
   "mimetype": "text/x-python",
   "name": "python",
   "nbconvert_exporter": "python",
   "pygments_lexer": "ipython3",
   "version": "3.8.5"
  }
 },
 "nbformat": 4,
 "nbformat_minor": 4
}
